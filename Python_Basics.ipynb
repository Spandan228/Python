{
  "nbformat": 4,
  "nbformat_minor": 0,
  "metadata": {
    "colab": {
      "provenance": [],
      "authorship_tag": "ABX9TyNrmcU8TC0atNIg1PqdugQ7",
      "include_colab_link": true
    },
    "kernelspec": {
      "name": "python3",
      "display_name": "Python 3"
    },
    "language_info": {
      "name": "python"
    }
  },
  "cells": [
    {
      "cell_type": "markdown",
      "metadata": {
        "id": "view-in-github",
        "colab_type": "text"
      },
      "source": [
        "<a href=\"https://colab.research.google.com/github/Spandan228/Python/blob/main/Python_Basics.ipynb\" target=\"_parent\"><img src=\"https://colab.research.google.com/assets/colab-badge.svg\" alt=\"Open In Colab\"/></a>"
      ]
    },
    {
      "cell_type": "markdown",
      "source": [
        "# **CHAPTER 1: PYTHON BASICS**"
      ],
      "metadata": {
        "id": "NTkOEPyGCW0m"
      }
    },
    {
      "cell_type": "code",
      "source": [
        "if = 'silver'"
      ],
      "metadata": {
        "colab": {
          "base_uri": "https://localhost:8080/",
          "height": 108
        },
        "id": "1VM--Wcs7B9g",
        "outputId": "948c060d-276f-4c2b-9e8d-6a5d3b0d4499"
      },
      "execution_count": 4,
      "outputs": [
        {
          "output_type": "error",
          "ename": "SyntaxError",
          "evalue": "invalid syntax (ipython-input-4051132784.py, line 1)",
          "traceback": [
            "\u001b[0;36m  File \u001b[0;32m\"/tmp/ipython-input-4051132784.py\"\u001b[0;36m, line \u001b[0;32m1\u001b[0m\n\u001b[0;31m    if = 'silver'\u001b[0m\n\u001b[0m       ^\u001b[0m\n\u001b[0;31mSyntaxError\u001b[0m\u001b[0;31m:\u001b[0m invalid syntax\n"
          ]
        }
      ]
    },
    {
      "cell_type": "code",
      "source": [
        "for = 'banana'"
      ],
      "metadata": {
        "colab": {
          "base_uri": "https://localhost:8080/",
          "height": 108
        },
        "id": "3B2uHgYZCjxZ",
        "outputId": "584edcc6-6c48-4246-bde5-53ffbe5d90d0"
      },
      "execution_count": 5,
      "outputs": [
        {
          "output_type": "error",
          "ename": "SyntaxError",
          "evalue": "invalid syntax (ipython-input-1699356759.py, line 1)",
          "traceback": [
            "\u001b[0;36m  File \u001b[0;32m\"/tmp/ipython-input-1699356759.py\"\u001b[0;36m, line \u001b[0;32m1\u001b[0m\n\u001b[0;31m    for = 'banana'\u001b[0m\n\u001b[0m        ^\u001b[0m\n\u001b[0;31mSyntaxError\u001b[0m\u001b[0;31m:\u001b[0m invalid syntax\n"
          ]
        }
      ]
    },
    {
      "cell_type": "code",
      "source": [
        "2+2"
      ],
      "metadata": {
        "colab": {
          "base_uri": "https://localhost:8080/"
        },
        "id": "T40djFgLCqMh",
        "outputId": "5419e9c5-c46b-4553-ddc3-39b91a72a4b1"
      },
      "execution_count": 6,
      "outputs": [
        {
          "output_type": "execute_result",
          "data": {
            "text/plain": [
              "4"
            ]
          },
          "metadata": {},
          "execution_count": 6
        }
      ]
    },
    {
      "cell_type": "code",
      "source": [
        "\"Hello World\""
      ],
      "metadata": {
        "colab": {
          "base_uri": "https://localhost:8080/",
          "height": 35
        },
        "id": "-y6C14LNCu8M",
        "outputId": "918b887c-f4e7-4e48-9f2e-5ce02e2243a0"
      },
      "execution_count": 7,
      "outputs": [
        {
          "output_type": "execute_result",
          "data": {
            "text/plain": [
              "'Hello World'"
            ],
            "application/vnd.google.colaboratory.intrinsic+json": {
              "type": "string"
            }
          },
          "metadata": {},
          "execution_count": 7
        }
      ]
    },
    {
      "cell_type": "code",
      "source": [
        "myname = 'Spandan'\n",
        "myname"
      ],
      "metadata": {
        "colab": {
          "base_uri": "https://localhost:8080/",
          "height": 35
        },
        "id": "uP7mdRzMC5EO",
        "outputId": "efa140c2-d2d9-4b91-8580-95710ca3c464"
      },
      "execution_count": 8,
      "outputs": [
        {
          "output_type": "execute_result",
          "data": {
            "text/plain": [
              "'Spandan'"
            ],
            "application/vnd.google.colaboratory.intrinsic+json": {
              "type": "string"
            }
          },
          "metadata": {},
          "execution_count": 8
        }
      ]
    },
    {
      "cell_type": "markdown",
      "source": [
        "Print Statement and Comments"
      ],
      "metadata": {
        "id": "Uf-xnxUsEA92"
      }
    },
    {
      "cell_type": "markdown",
      "source": [
        "For comments in python, we use a **#** symbol"
      ],
      "metadata": {
        "id": "JJN08ScRFJlh"
      }
    },
    {
      "cell_type": "markdown",
      "source": [
        "DO REMEMBER THAT **print('')** Prints an empty string !!"
      ],
      "metadata": {
        "id": "Qt34-LlBLPvF"
      }
    },
    {
      "cell_type": "code",
      "source": [
        "line01 = \"******************************\" #header / footer\n",
        "line02 = \"                              \"\n",
        "line03 = \"           HELLO              \"\n",
        "\n",
        "#starts with a blank line\n",
        "print('')\n",
        "print(line01)\n",
        "print(line02)\n",
        "print(line03)\n",
        "print(line02)\n",
        "print(line01)"
      ],
      "metadata": {
        "colab": {
          "base_uri": "https://localhost:8080/"
        },
        "id": "IQaZq2y9EDU4",
        "outputId": "71d32f05-8817-4200-8081-707700994ab2"
      },
      "execution_count": 11,
      "outputs": [
        {
          "output_type": "stream",
          "name": "stdout",
          "text": [
            "\n",
            "******************************\n",
            "                              \n",
            "           HELLO              \n",
            "                              \n",
            "******************************\n"
          ]
        }
      ]
    },
    {
      "cell_type": "markdown",
      "source": [
        "**Indentations in python**"
      ],
      "metadata": {
        "id": "0qYR5yDXFyB8"
      }
    },
    {
      "cell_type": "markdown",
      "source": [
        "**PYTHON DOES NOT IGNORE WHITESPACES !!**"
      ],
      "metadata": {
        "id": "jIvTTt1IF4w2"
      }
    },
    {
      "cell_type": "code",
      "source": [
        "line01 = \"******************************\" #header / footer\n",
        "line02 = \"                              \"\n",
        "         line03 = \"           HELLO              \"\n",
        "\n",
        "#starts with a blank line\n",
        "print('')\n",
        "print(line01)\n",
        "print(line02)\n",
        "print(line03)\n",
        "print(line02)\n",
        "print(line01)"
      ],
      "metadata": {
        "colab": {
          "base_uri": "https://localhost:8080/",
          "height": 108
        },
        "id": "LiQqu64AGDfd",
        "outputId": "e8b72b20-dcb3-4b4c-bc0f-8e25afd5d49d"
      },
      "execution_count": 12,
      "outputs": [
        {
          "output_type": "error",
          "ename": "IndentationError",
          "evalue": "unexpected indent (ipython-input-2909894572.py, line 3)",
          "traceback": [
            "\u001b[0;36m  File \u001b[0;32m\"/tmp/ipython-input-2909894572.py\"\u001b[0;36m, line \u001b[0;32m3\u001b[0m\n\u001b[0;31m    line03 = \"           HELLO              \"\u001b[0m\n\u001b[0m    ^\u001b[0m\n\u001b[0;31mIndentationError\u001b[0m\u001b[0;31m:\u001b[0m unexpected indent\n"
          ]
        }
      ]
    },
    {
      "cell_type": "markdown",
      "source": [
        "# **CHAPTER 2: OPERATORS**"
      ],
      "metadata": {
        "id": "MV6dwDqPGpos"
      }
    },
    {
      "cell_type": "markdown",
      "source": [
        "**Python Operators**: Symbols used to perform operations on values and the variables that hold those values."
      ],
      "metadata": {
        "id": "Gbc6GfpKHS52"
      }
    },
    {
      "cell_type": "markdown",
      "source": [
        "**Assignment Operator**"
      ],
      "metadata": {
        "id": "bP-06X12HoXI"
      }
    },
    {
      "cell_type": "code",
      "source": [
        "name = 'spandan'\n",
        "name"
      ],
      "metadata": {
        "colab": {
          "base_uri": "https://localhost:8080/",
          "height": 35
        },
        "id": "A3To3dt9HQoz",
        "outputId": "d8f0b7b3-04b0-4ba2-fd7e-147d62fb6c93"
      },
      "execution_count": 13,
      "outputs": [
        {
          "output_type": "execute_result",
          "data": {
            "text/plain": [
              "'spandan'"
            ],
            "application/vnd.google.colaboratory.intrinsic+json": {
              "type": "string"
            }
          },
          "metadata": {},
          "execution_count": 13
        }
      ]
    },
    {
      "cell_type": "code",
      "source": [
        "a = 42\n",
        "a"
      ],
      "metadata": {
        "colab": {
          "base_uri": "https://localhost:8080/"
        },
        "id": "MyTrfEYeHvF3",
        "outputId": "d2cc39b7-b596-424f-fd1d-a684e664c6fe"
      },
      "execution_count": 14,
      "outputs": [
        {
          "output_type": "execute_result",
          "data": {
            "text/plain": [
              "42"
            ]
          },
          "metadata": {},
          "execution_count": 14
        }
      ]
    },
    {
      "cell_type": "markdown",
      "source": [
        "**Arithmetic Operators**"
      ],
      "metadata": {
        "id": "fNzUMA0CHyH0"
      }
    },
    {
      "cell_type": "code",
      "source": [
        "2+2"
      ],
      "metadata": {
        "colab": {
          "base_uri": "https://localhost:8080/"
        },
        "id": "gF28OqnOH1rC",
        "outputId": "257a7998-c7bf-4798-8926-e80a21a92b93"
      },
      "execution_count": 16,
      "outputs": [
        {
          "output_type": "execute_result",
          "data": {
            "text/plain": [
              "4"
            ]
          },
          "metadata": {},
          "execution_count": 16
        }
      ]
    },
    {
      "cell_type": "code",
      "source": [
        "4-2"
      ],
      "metadata": {
        "colab": {
          "base_uri": "https://localhost:8080/"
        },
        "id": "iFG6aMbfIBSe",
        "outputId": "1037c95a-8eca-413b-b166-43cb652cd5f9"
      },
      "execution_count": 17,
      "outputs": [
        {
          "output_type": "execute_result",
          "data": {
            "text/plain": [
              "2"
            ]
          },
          "metadata": {},
          "execution_count": 17
        }
      ]
    },
    {
      "cell_type": "code",
      "source": [
        "2*2"
      ],
      "metadata": {
        "colab": {
          "base_uri": "https://localhost:8080/"
        },
        "id": "KZBcs1IaIE_e",
        "outputId": "1486e9c9-0b8c-46ab-b5b3-cb6bacbf26ca"
      },
      "execution_count": 18,
      "outputs": [
        {
          "output_type": "execute_result",
          "data": {
            "text/plain": [
              "4"
            ]
          },
          "metadata": {},
          "execution_count": 18
        }
      ]
    },
    {
      "cell_type": "code",
      "source": [
        "24/5"
      ],
      "metadata": {
        "colab": {
          "base_uri": "https://localhost:8080/"
        },
        "id": "WzQZBsZhIHTS",
        "outputId": "5f79a25d-b2b9-4234-a888-d10cdf2b0786"
      },
      "execution_count": 19,
      "outputs": [
        {
          "output_type": "execute_result",
          "data": {
            "text/plain": [
              "4.8"
            ]
          },
          "metadata": {},
          "execution_count": 19
        }
      ]
    },
    {
      "cell_type": "markdown",
      "source": [
        "Floor Division"
      ],
      "metadata": {
        "id": "txFQGU8zI3M7"
      }
    },
    {
      "cell_type": "code",
      "source": [
        "24 // 5"
      ],
      "metadata": {
        "colab": {
          "base_uri": "https://localhost:8080/"
        },
        "id": "ciIhsyCTIKiG",
        "outputId": "f889a758-1e8c-4629-a325-cb49cd2c91d2"
      },
      "execution_count": 20,
      "outputs": [
        {
          "output_type": "execute_result",
          "data": {
            "text/plain": [
              "4"
            ]
          },
          "metadata": {},
          "execution_count": 20
        }
      ]
    },
    {
      "cell_type": "markdown",
      "source": [
        "For Rounding Up-"
      ],
      "metadata": {
        "id": "k3B7lKJxIzy_"
      }
    },
    {
      "cell_type": "code",
      "source": [
        "round(24/5)"
      ],
      "metadata": {
        "colab": {
          "base_uri": "https://localhost:8080/"
        },
        "id": "0j49C3kqINZ9",
        "outputId": "72e8e35d-5a78-4e39-8eeb-66fc772fc299"
      },
      "execution_count": 21,
      "outputs": [
        {
          "output_type": "execute_result",
          "data": {
            "text/plain": [
              "5"
            ]
          },
          "metadata": {},
          "execution_count": 21
        }
      ]
    },
    {
      "cell_type": "markdown",
      "source": [
        "To Find the Remainder-"
      ],
      "metadata": {
        "id": "XtQUKA7zI98o"
      }
    },
    {
      "cell_type": "code",
      "source": [
        "24 % 5"
      ],
      "metadata": {
        "colab": {
          "base_uri": "https://localhost:8080/"
        },
        "id": "makK1jJKIQRs",
        "outputId": "735c1ccc-9d6d-4941-d8be-bec99d598f7e"
      },
      "execution_count": 22,
      "outputs": [
        {
          "output_type": "execute_result",
          "data": {
            "text/plain": [
              "4"
            ]
          },
          "metadata": {},
          "execution_count": 22
        }
      ]
    },
    {
      "cell_type": "code",
      "source": [
        "2 ** 3"
      ],
      "metadata": {
        "colab": {
          "base_uri": "https://localhost:8080/"
        },
        "id": "L8xJen2tIUOA",
        "outputId": "a6cd15d1-17f4-4492-c761-d56e6b63a76d"
      },
      "execution_count": 23,
      "outputs": [
        {
          "output_type": "execute_result",
          "data": {
            "text/plain": [
              "8"
            ]
          },
          "metadata": {},
          "execution_count": 23
        }
      ]
    },
    {
      "cell_type": "code",
      "source": [
        "meaning = 42\n",
        "meaning += 1\n",
        "meaning"
      ],
      "metadata": {
        "colab": {
          "base_uri": "https://localhost:8080/"
        },
        "id": "Et8TgLvvIWsi",
        "outputId": "7fb941d8-528d-4fca-a6b0-7a48a019b316"
      },
      "execution_count": 24,
      "outputs": [
        {
          "output_type": "execute_result",
          "data": {
            "text/plain": [
              "43"
            ]
          },
          "metadata": {},
          "execution_count": 24
        }
      ]
    },
    {
      "cell_type": "code",
      "source": [
        "meaning = 42\n",
        "meaning -= 1\n",
        "meaning"
      ],
      "metadata": {
        "colab": {
          "base_uri": "https://localhost:8080/"
        },
        "id": "rKJGJTl2Id-D",
        "outputId": "6e03a415-6b87-4b85-ce6f-63cd018e9162"
      },
      "execution_count": 25,
      "outputs": [
        {
          "output_type": "execute_result",
          "data": {
            "text/plain": [
              "41"
            ]
          },
          "metadata": {},
          "execution_count": 25
        }
      ]
    },
    {
      "cell_type": "code",
      "source": [
        "meaning = 42\n",
        "meaning *= 10\n",
        "meaning"
      ],
      "metadata": {
        "colab": {
          "base_uri": "https://localhost:8080/"
        },
        "id": "EMhhh14DIgus",
        "outputId": "933600f0-f38c-49d8-c2c2-4d5d94cefbbd"
      },
      "execution_count": 27,
      "outputs": [
        {
          "output_type": "execute_result",
          "data": {
            "text/plain": [
              "420"
            ]
          },
          "metadata": {},
          "execution_count": 27
        }
      ]
    },
    {
      "cell_type": "code",
      "source": [
        "meaning = 42\n",
        "meaning /= 10\n",
        "meaning"
      ],
      "metadata": {
        "colab": {
          "base_uri": "https://localhost:8080/"
        },
        "id": "G7on5Sq_Iiv7",
        "outputId": "c33f33f8-3ad1-4b55-c9b4-0780a80e6a13"
      },
      "execution_count": 29,
      "outputs": [
        {
          "output_type": "execute_result",
          "data": {
            "text/plain": [
              "4.2"
            ]
          },
          "metadata": {},
          "execution_count": 29
        }
      ]
    },
    {
      "cell_type": "markdown",
      "source": [
        "We can use the **+** operator to **concatenate** two different strings"
      ],
      "metadata": {
        "id": "28B9OJIWJNUj"
      }
    },
    {
      "cell_type": "code",
      "source": [
        "\"Spandan \" + \"Nanda\""
      ],
      "metadata": {
        "colab": {
          "base_uri": "https://localhost:8080/",
          "height": 35
        },
        "id": "TwO5eBlVJYqh",
        "outputId": "766c89ac-0e69-4d6e-e12e-c546b9983517"
      },
      "execution_count": 30,
      "outputs": [
        {
          "output_type": "execute_result",
          "data": {
            "text/plain": [
              "'Spandan Nanda'"
            ],
            "application/vnd.google.colaboratory.intrinsic+json": {
              "type": "string"
            }
          },
          "metadata": {},
          "execution_count": 30
        }
      ]
    },
    {
      "cell_type": "markdown",
      "source": [
        "**Boolean Data**"
      ],
      "metadata": {
        "id": "2VRJuFhtJvpE"
      }
    },
    {
      "cell_type": "code",
      "source": [
        "42 == 41"
      ],
      "metadata": {
        "colab": {
          "base_uri": "https://localhost:8080/"
        },
        "id": "8WyDUBpmJoH2",
        "outputId": "0808c798-e848-4704-f235-c57e2f912abc"
      },
      "execution_count": 31,
      "outputs": [
        {
          "output_type": "execute_result",
          "data": {
            "text/plain": [
              "False"
            ]
          },
          "metadata": {},
          "execution_count": 31
        }
      ]
    },
    {
      "cell_type": "code",
      "source": [
        "42 == 42"
      ],
      "metadata": {
        "colab": {
          "base_uri": "https://localhost:8080/"
        },
        "id": "RUmZwvFZJsTM",
        "outputId": "2e5e2ae2-0950-4969-9323-5ec06586f29c"
      },
      "execution_count": 32,
      "outputs": [
        {
          "output_type": "execute_result",
          "data": {
            "text/plain": [
              "True"
            ]
          },
          "metadata": {},
          "execution_count": 32
        }
      ]
    },
    {
      "cell_type": "code",
      "source": [
        "10 > 5"
      ],
      "metadata": {
        "colab": {
          "base_uri": "https://localhost:8080/"
        },
        "id": "4Y5XePZgJzgR",
        "outputId": "9d7d6be7-b7c4-49e3-9b8a-970bfcbdfaf7"
      },
      "execution_count": 33,
      "outputs": [
        {
          "output_type": "execute_result",
          "data": {
            "text/plain": [
              "True"
            ]
          },
          "metadata": {},
          "execution_count": 33
        }
      ]
    },
    {
      "cell_type": "code",
      "source": [
        "10 < 5"
      ],
      "metadata": {
        "colab": {
          "base_uri": "https://localhost:8080/"
        },
        "id": "DE1DV6p7J2Wd",
        "outputId": "a5894d3d-95e4-4f67-b03f-03276eee77cc"
      },
      "execution_count": 34,
      "outputs": [
        {
          "output_type": "execute_result",
          "data": {
            "text/plain": [
              "False"
            ]
          },
          "metadata": {},
          "execution_count": 34
        }
      ]
    },
    {
      "cell_type": "code",
      "source": [
        "10 != 5"
      ],
      "metadata": {
        "colab": {
          "base_uri": "https://localhost:8080/"
        },
        "id": "jGSWVKk-J5ri",
        "outputId": "3d8dfc99-52dc-40a9-c978-98d7320fdf31"
      },
      "execution_count": 35,
      "outputs": [
        {
          "output_type": "execute_result",
          "data": {
            "text/plain": [
              "True"
            ]
          },
          "metadata": {},
          "execution_count": 35
        }
      ]
    },
    {
      "cell_type": "code",
      "source": [
        "x = True\n",
        "y = False\n",
        "z = True\n",
        "not x"
      ],
      "metadata": {
        "colab": {
          "base_uri": "https://localhost:8080/"
        },
        "id": "y32s6iawJ91S",
        "outputId": "e5109a33-b172-4740-fc44-13adcf2fa841"
      },
      "execution_count": 36,
      "outputs": [
        {
          "output_type": "execute_result",
          "data": {
            "text/plain": [
              "False"
            ]
          },
          "metadata": {},
          "execution_count": 36
        }
      ]
    },
    {
      "cell_type": "code",
      "source": [
        "x = True\n",
        "y = False\n",
        "z = True\n",
        "not y"
      ],
      "metadata": {
        "colab": {
          "base_uri": "https://localhost:8080/"
        },
        "id": "g8zMz9CJKJJf",
        "outputId": "ecf2922e-474c-4241-8f3d-71fb1dade634"
      },
      "execution_count": 37,
      "outputs": [
        {
          "output_type": "execute_result",
          "data": {
            "text/plain": [
              "True"
            ]
          },
          "metadata": {},
          "execution_count": 37
        }
      ]
    },
    {
      "cell_type": "code",
      "source": [
        "x = True\n",
        "y = False\n",
        "z = True\n",
        "x and y"
      ],
      "metadata": {
        "colab": {
          "base_uri": "https://localhost:8080/"
        },
        "id": "WLcU35LaKLNj",
        "outputId": "8272faf0-67ad-4977-ad70-0cdb1d499bd7"
      },
      "execution_count": 38,
      "outputs": [
        {
          "output_type": "execute_result",
          "data": {
            "text/plain": [
              "False"
            ]
          },
          "metadata": {},
          "execution_count": 38
        }
      ]
    },
    {
      "cell_type": "code",
      "source": [
        "x = True\n",
        "y = False\n",
        "z = True\n",
        "y and x"
      ],
      "metadata": {
        "colab": {
          "base_uri": "https://localhost:8080/"
        },
        "id": "I321n8hBKQfj",
        "outputId": "0057319e-95de-4d7d-d84f-2ad98039c9ee"
      },
      "execution_count": 39,
      "outputs": [
        {
          "output_type": "execute_result",
          "data": {
            "text/plain": [
              "False"
            ]
          },
          "metadata": {},
          "execution_count": 39
        }
      ]
    },
    {
      "cell_type": "code",
      "source": [
        "x = True\n",
        "y = False\n",
        "z = True\n",
        "x or y"
      ],
      "metadata": {
        "colab": {
          "base_uri": "https://localhost:8080/"
        },
        "id": "S8vvmf88KVKv",
        "outputId": "8f154ea6-913a-45d3-b3c7-7645d03d8eb2"
      },
      "execution_count": 40,
      "outputs": [
        {
          "output_type": "execute_result",
          "data": {
            "text/plain": [
              "True"
            ]
          },
          "metadata": {},
          "execution_count": 40
        }
      ]
    },
    {
      "cell_type": "code",
      "source": [
        "x = True\n",
        "y = False\n",
        "z = True\n",
        "y or x"
      ],
      "metadata": {
        "colab": {
          "base_uri": "https://localhost:8080/"
        },
        "id": "NA6JA25eKYOZ",
        "outputId": "71880868-73c5-4a15-ef90-95313ab22666"
      },
      "execution_count": 41,
      "outputs": [
        {
          "output_type": "execute_result",
          "data": {
            "text/plain": [
              "True"
            ]
          },
          "metadata": {},
          "execution_count": 41
        }
      ]
    },
    {
      "cell_type": "code",
      "source": [
        "x = True\n",
        "y = False\n",
        "z = True\n",
        "x and z"
      ],
      "metadata": {
        "colab": {
          "base_uri": "https://localhost:8080/"
        },
        "id": "T9O5YZyfKiAU",
        "outputId": "b8bc5517-bc4e-4c13-c539-17e164962b00"
      },
      "execution_count": 42,
      "outputs": [
        {
          "output_type": "execute_result",
          "data": {
            "text/plain": [
              "True"
            ]
          },
          "metadata": {},
          "execution_count": 42
        }
      ]
    },
    {
      "cell_type": "code",
      "source": [
        "x = True\n",
        "y = False\n",
        "z = True\n",
        "z and y"
      ],
      "metadata": {
        "colab": {
          "base_uri": "https://localhost:8080/"
        },
        "id": "l8_JKrr8KkgB",
        "outputId": "9b7c4e2b-32ce-4dc2-b68e-874fed0f346d"
      },
      "execution_count": 43,
      "outputs": [
        {
          "output_type": "execute_result",
          "data": {
            "text/plain": [
              "False"
            ]
          },
          "metadata": {},
          "execution_count": 43
        }
      ]
    },
    {
      "cell_type": "code",
      "source": [
        "x = True\n",
        "y = False\n",
        "z = True\n",
        "y or z"
      ],
      "metadata": {
        "colab": {
          "base_uri": "https://localhost:8080/"
        },
        "id": "LJbETvVQKnPc",
        "outputId": "def67770-752f-49da-fc44-0a8db8adc477"
      },
      "execution_count": 44,
      "outputs": [
        {
          "output_type": "execute_result",
          "data": {
            "text/plain": [
              "True"
            ]
          },
          "metadata": {},
          "execution_count": 44
        }
      ]
    },
    {
      "cell_type": "code",
      "source": [
        "x = True\n",
        "y = False\n",
        "z = True\n",
        "z or y"
      ],
      "metadata": {
        "colab": {
          "base_uri": "https://localhost:8080/"
        },
        "id": "HeXr46ezKpWW",
        "outputId": "8f3a3197-ace2-42a1-f841-f77c77190f06"
      },
      "execution_count": 45,
      "outputs": [
        {
          "output_type": "execute_result",
          "data": {
            "text/plain": [
              "True"
            ]
          },
          "metadata": {},
          "execution_count": 45
        }
      ]
    },
    {
      "cell_type": "markdown",
      "source": [
        "DO REMEMBER THAT **print('')** Prints an empty string !!"
      ],
      "metadata": {
        "id": "9bI_WtqAK9Gt"
      }
    },
    {
      "cell_type": "code",
      "source": [
        "meaning = 42\n",
        "print('')"
      ],
      "metadata": {
        "colab": {
          "base_uri": "https://localhost:8080/"
        },
        "id": "nD8yLwN6K0wo",
        "outputId": "69ef1fc0-384d-4fd2-abb3-4d2e2df68baf"
      },
      "execution_count": 46,
      "outputs": [
        {
          "output_type": "stream",
          "name": "stdout",
          "text": [
            "\n"
          ]
        }
      ]
    },
    {
      "cell_type": "markdown",
      "source": [
        "**if else statement**"
      ],
      "metadata": {
        "id": "tOBDaf0JLosq"
      }
    },
    {
      "cell_type": "code",
      "source": [
        "meaning = 42\n",
        "print('')\n",
        "\n",
        "if meaning > 10:\n",
        "  print('Right on!')\n",
        "else:\n",
        "  print('Not today')"
      ],
      "metadata": {
        "colab": {
          "base_uri": "https://localhost:8080/"
        },
        "id": "tyX-Q4jrLrjr",
        "outputId": "a6c53296-7fdc-4186-c64c-c8cb6fe1c48c"
      },
      "execution_count": 47,
      "outputs": [
        {
          "output_type": "stream",
          "name": "stdout",
          "text": [
            "\n",
            "Right on!\n"
          ]
        }
      ]
    },
    {
      "cell_type": "code",
      "source": [
        "meaning = 8\n",
        "print('')\n",
        "\n",
        "if meaning > 10:\n",
        "  print('Right on!')\n",
        "else:\n",
        "  print('Not today')"
      ],
      "metadata": {
        "colab": {
          "base_uri": "https://localhost:8080/"
        },
        "id": "122p7foiL_aj",
        "outputId": "f1c626a9-3992-4358-d397-3184bcdefa1d"
      },
      "execution_count": 48,
      "outputs": [
        {
          "output_type": "stream",
          "name": "stdout",
          "text": [
            "\n",
            "Not today\n"
          ]
        }
      ]
    },
    {
      "cell_type": "code",
      "source": [
        "a = 50\n",
        "if a > 10:\n",
        "  print(\"Hello\")\n",
        "else:\n",
        "  print(\"Bye\")"
      ],
      "metadata": {
        "id": "apzIRroqNEY9",
        "outputId": "6eb790f7-d0dc-494b-d3bb-4272e4892464",
        "colab": {
          "base_uri": "https://localhost:8080/"
        }
      },
      "execution_count": 53,
      "outputs": [
        {
          "output_type": "stream",
          "name": "stdout",
          "text": [
            "Hello\n"
          ]
        }
      ]
    },
    {
      "cell_type": "markdown",
      "source": [
        "**Ternary Operator**"
      ],
      "metadata": {
        "id": "dLxTGiMbNtEp"
      }
    },
    {
      "cell_type": "code",
      "source": [
        "meaning = 8\n",
        "print('')\n",
        "\n",
        "#This is a Ternary Operator\n",
        "print('Right on!') if meaning > 10 else print ('Not Today')"
      ],
      "metadata": {
        "id": "fmuTP8UUNxzr",
        "outputId": "69f9a907-0a3d-49db-8727-eb7834a5efb5",
        "colab": {
          "base_uri": "https://localhost:8080/"
        }
      },
      "execution_count": 56,
      "outputs": [
        {
          "output_type": "stream",
          "name": "stdout",
          "text": [
            "\n",
            "Not Today\n"
          ]
        }
      ]
    },
    {
      "cell_type": "markdown",
      "source": [
        "# **CHAPTER 3: DATA TYPES**"
      ],
      "metadata": {
        "id": "tZxu4YPJOXHj"
      }
    },
    {
      "cell_type": "markdown",
      "source": [
        "**String Data Type**"
      ],
      "metadata": {
        "id": "M5xyo4ezOsxn"
      }
    },
    {
      "cell_type": "markdown",
      "source": [
        "There are two different ways to assign string data-\n",
        "\n",
        "*   Literal Assignment\n",
        "*   Construction Function"
      ],
      "metadata": {
        "id": "hm1VF3XuSRA7"
      }
    },
    {
      "cell_type": "markdown",
      "source": [
        "**Literal Assignment**"
      ],
      "metadata": {
        "id": "wsOmVie1R-8w"
      }
    },
    {
      "cell_type": "code",
      "source": [
        "# String data type\n",
        "\n",
        "# literal assignment\n",
        "first_name = 'Spandan'\n",
        "last_name = 'Nanda'\n",
        "print(type(first_name))"
      ],
      "metadata": {
        "id": "TWTKXGQ9OeFr",
        "outputId": "1a9901c0-8c61-43cc-80e7-8b23138fa6ef",
        "colab": {
          "base_uri": "https://localhost:8080/"
        }
      },
      "execution_count": 57,
      "outputs": [
        {
          "output_type": "stream",
          "name": "stdout",
          "text": [
            "<class 'str'>\n"
          ]
        }
      ]
    },
    {
      "cell_type": "code",
      "source": [
        "# String data type\n",
        "\n",
        "# literal assignment\n",
        "first_name = 'Spandan'\n",
        "last_name = 'Nanda'\n",
        "print(type(first_name))\n",
        "print(type(first_name) == str)"
      ],
      "metadata": {
        "id": "Pi_aX-cFQ3oz",
        "outputId": "f66c07e1-1cb6-459a-d54e-09f718b723dc",
        "colab": {
          "base_uri": "https://localhost:8080/"
        }
      },
      "execution_count": 59,
      "outputs": [
        {
          "output_type": "stream",
          "name": "stdout",
          "text": [
            "<class 'str'>\n",
            "True\n"
          ]
        }
      ]
    },
    {
      "cell_type": "code",
      "source": [
        "# String data type\n",
        "\n",
        "# literal assignment\n",
        "first_name = 'Spandan'\n",
        "last_name = 'Nanda'\n",
        "print(type(first_name))\n",
        "print(type(first_name) == str)\n",
        "print(isinstance(first_name, str))"
      ],
      "metadata": {
        "id": "ztm11ZKqRPf2",
        "outputId": "c5de6fc8-9cf7-43aa-ad35-65bf505564ef",
        "colab": {
          "base_uri": "https://localhost:8080/"
        }
      },
      "execution_count": 60,
      "outputs": [
        {
          "output_type": "stream",
          "name": "stdout",
          "text": [
            "<class 'str'>\n",
            "True\n",
            "True\n"
          ]
        }
      ]
    },
    {
      "cell_type": "markdown",
      "source": [
        "**Constructor Function**"
      ],
      "metadata": {
        "id": "SWaVOAcQSKLh"
      }
    },
    {
      "cell_type": "code",
      "source": [
        "# String data type\n",
        "\n",
        "# literal assignment\n",
        "first_name = 'Spandan'\n",
        "last_name = 'Nanda'\n",
        "\n",
        "#constructor function\n",
        "pizza = str(\"Pepperoni\")\n",
        "print(type(pizza))\n",
        "print(type(pizza) == str)\n",
        "print(isinstance(pizza, str))"
      ],
      "metadata": {
        "id": "Tb1Z5v2MRXb_",
        "outputId": "a4da159d-504e-4440-fd75-3692d2c4c1a6",
        "colab": {
          "base_uri": "https://localhost:8080/"
        }
      },
      "execution_count": 62,
      "outputs": [
        {
          "output_type": "stream",
          "name": "stdout",
          "text": [
            "<class 'str'>\n",
            "True\n",
            "True\n"
          ]
        }
      ]
    }
  ]
}